{
  "cells": [
    {
      "cell_type": "code",
      "execution_count": null,
      "metadata": {
        "id": "EpwuAUgVkzZz"
      },
      "outputs": [
        {
          "ename": "",
          "evalue": "",
          "output_type": "error",
          "traceback": [
            "\u001b[1;31mRunning cells with 'c:\\Users\\Administrator\\AppData\\Local\\Microsoft\\WindowsApps\\python3.10.exe' requires the ipykernel package.\n",
            "\u001b[1;31mRun the following command to install 'ipykernel' into the Python environment. \n",
            "\u001b[1;31mCommand: 'c:/Users/Administrator/AppData/Local/Microsoft/WindowsApps/python3.10.exe -m pip install ipykernel -U --user --force-reinstall'"
          ]
        }
      ],
      "source": [
        "import numpy as np\n",
        "import pandas as pd\n",
        "\n",
        "import matplotlib.pyplot as plt\n",
        "import seaborn as sns\n",
        "\n",
        "from sklearn.model_selection import train_test_split\n",
        "from sklearn.model_selection import GridSearchCV\n",
        "from sklearn.linear_model import LinearRegression\n",
        "from sklearn.preprocessing import RobustScaler\n",
        "from sklearn.preprocessing import PolynomialFeatures\n",
        "from sklearn.pipeline import make_pipeline\n",
        "\n",
        "from sklearn.metrics import r2_score as r2\n",
        "from sklearn.metrics import mean_absolute_error as mae\n",
        "from sklearn.metrics import mean_squared_error as rmse\n",
        "\n",
        "import warnings\n",
        "warnings.filterwarnings('ignore')"
      ]
    },
    {
      "cell_type": "markdown",
      "metadata": {
        "id": "XcINHJ4jpEPp"
      },
      "source": [
        "##Loading the data"
      ]
    },
    {
      "cell_type": "code",
      "execution_count": null,
      "metadata": {
        "id": "Aofog11ClCYD"
      },
      "outputs": [
        {
          "ename": "",
          "evalue": "",
          "output_type": "error",
          "traceback": [
            "\u001b[1;31mRunning cells with 'c:\\Users\\Administrator\\AppData\\Local\\Microsoft\\WindowsApps\\python3.10.exe' requires the ipykernel package.\n",
            "\u001b[1;31mRun the following command to install 'ipykernel' into the Python environment. \n",
            "\u001b[1;31mCommand: 'c:/Users/Administrator/AppData/Local/Microsoft/WindowsApps/python3.10.exe -m pip install ipykernel -U --user --force-reinstall'"
          ]
        }
      ],
      "source": [
        "aq = pd.read_csv('/content/drive/MyDrive/hw2_dataset/AirQualityUCI.csv', sep=';', decimal=',', header=0)"
      ]
    },
    {
      "cell_type": "code",
      "execution_count": null,
      "metadata": {
        "colab": {
          "base_uri": "https://localhost:8080/",
          "height": 400
        },
        "id": "KcWaO8QflHCV",
        "outputId": "4f6a36ae-fb03-4488-e54f-6526234a8906"
      },
      "outputs": [
        {
          "ename": "",
          "evalue": "",
          "output_type": "error",
          "traceback": [
            "\u001b[1;31mRunning cells with 'c:\\Users\\Administrator\\AppData\\Local\\Microsoft\\WindowsApps\\python3.10.exe' requires the ipykernel package.\n",
            "\u001b[1;31mRun the following command to install 'ipykernel' into the Python environment. \n",
            "\u001b[1;31mCommand: 'c:/Users/Administrator/AppData/Local/Microsoft/WindowsApps/python3.10.exe -m pip install ipykernel -U --user --force-reinstall'"
          ]
        }
      ],
      "source": [
        "aq.head(10)"
      ]
    },
    {
      "cell_type": "markdown",
      "metadata": {
        "id": "gZzO3nXFoiqp"
      },
      "source": [
        "We have trash columns 'Unnamed:15' and 'Unnamed:16', so we should drop them."
      ]
    },
    {
      "cell_type": "code",
      "execution_count": null,
      "metadata": {
        "colab": {
          "base_uri": "https://localhost:8080/",
          "height": 383
        },
        "id": "sP5guLCBos_R",
        "outputId": "c40c9d17-33cb-476d-f741-2940d6d07453"
      },
      "outputs": [
        {
          "ename": "",
          "evalue": "",
          "output_type": "error",
          "traceback": [
            "\u001b[1;31mRunning cells with 'c:\\Users\\Administrator\\AppData\\Local\\Microsoft\\WindowsApps\\python3.10.exe' requires the ipykernel package.\n",
            "\u001b[1;31mRun the following command to install 'ipykernel' into the Python environment. \n",
            "\u001b[1;31mCommand: 'c:/Users/Administrator/AppData/Local/Microsoft/WindowsApps/python3.10.exe -m pip install ipykernel -U --user --force-reinstall'"
          ]
        }
      ],
      "source": [
        "aq.drop(['Unnamed: 15','Unnamed: 16'], axis=1, inplace=True)\n",
        "aq.head(10)"
      ]
    },
    {
      "cell_type": "code",
      "execution_count": null,
      "metadata": {
        "colab": {
          "base_uri": "https://localhost:8080/"
        },
        "id": "jKWwtay7o204",
        "outputId": "f1f7c6d2-eb9a-479f-93b4-6787510eef22"
      },
      "outputs": [
        {
          "ename": "",
          "evalue": "",
          "output_type": "error",
          "traceback": [
            "\u001b[1;31mRunning cells with 'c:\\Users\\Administrator\\AppData\\Local\\Microsoft\\WindowsApps\\python3.10.exe' requires the ipykernel package.\n",
            "\u001b[1;31mRun the following command to install 'ipykernel' into the Python environment. \n",
            "\u001b[1;31mCommand: 'c:/Users/Administrator/AppData/Local/Microsoft/WindowsApps/python3.10.exe -m pip install ipykernel -U --user --force-reinstall'"
          ]
        }
      ],
      "source": [
        "aq.shape"
      ]
    },
    {
      "cell_type": "code",
      "execution_count": null,
      "metadata": {
        "colab": {
          "base_uri": "https://localhost:8080/"
        },
        "id": "XdbpjkmylHFP",
        "outputId": "8aa1f864-682e-4811-ddf5-7011c8b0ee74"
      },
      "outputs": [
        {
          "ename": "",
          "evalue": "",
          "output_type": "error",
          "traceback": [
            "\u001b[1;31mRunning cells with 'c:\\Users\\Administrator\\AppData\\Local\\Microsoft\\WindowsApps\\python3.10.exe' requires the ipykernel package.\n",
            "\u001b[1;31mRun the following command to install 'ipykernel' into the Python environment. \n",
            "\u001b[1;31mCommand: 'c:/Users/Administrator/AppData/Local/Microsoft/WindowsApps/python3.10.exe -m pip install ipykernel -U --user --force-reinstall'"
          ]
        }
      ],
      "source": [
        "aq.info()"
      ]
    },
    {
      "cell_type": "code",
      "execution_count": null,
      "metadata": {
        "colab": {
          "base_uri": "https://localhost:8080/",
          "height": 320
        },
        "id": "a9UuImbwlHQs",
        "outputId": "b6923962-7cdd-4802-f945-680a211b6b75"
      },
      "outputs": [
        {
          "ename": "",
          "evalue": "",
          "output_type": "error",
          "traceback": [
            "\u001b[1;31mRunning cells with 'c:\\Users\\Administrator\\AppData\\Local\\Microsoft\\WindowsApps\\python3.10.exe' requires the ipykernel package.\n",
            "\u001b[1;31mRun the following command to install 'ipykernel' into the Python environment. \n",
            "\u001b[1;31mCommand: 'c:/Users/Administrator/AppData/Local/Microsoft/WindowsApps/python3.10.exe -m pip install ipykernel -U --user --force-reinstall'"
          ]
        }
      ],
      "source": [
        "aq.describe()"
      ]
    },
    {
      "cell_type": "markdown",
      "metadata": {
        "id": "KVWlP5HdMptV"
      },
      "source": [
        "##Handling Date and Time columns"
      ]
    },
    {
      "cell_type": "code",
      "execution_count": null,
      "metadata": {
        "colab": {
          "base_uri": "https://localhost:8080/",
          "height": 313
        },
        "id": "OJ0Xpmm7MsjW",
        "outputId": "2cadb68d-6cdf-4bf1-9575-51b429775da4"
      },
      "outputs": [
        {
          "ename": "",
          "evalue": "",
          "output_type": "error",
          "traceback": [
            "\u001b[1;31mRunning cells with 'c:\\Users\\Administrator\\AppData\\Local\\Microsoft\\WindowsApps\\python3.10.exe' requires the ipykernel package.\n",
            "\u001b[1;31mRun the following command to install 'ipykernel' into the Python environment. \n",
            "\u001b[1;31mCommand: 'c:/Users/Administrator/AppData/Local/Microsoft/WindowsApps/python3.10.exe -m pip install ipykernel -U --user --force-reinstall'"
          ]
        }
      ],
      "source": [
        "aq['Date'] = pd.to_datetime(aq['Date'],dayfirst=True)\n",
        "\n",
        "aq['Time'] = pd.to_datetime(aq['Time'],format= '%H.%M.%S' ).dt.time\n",
        "\n",
        "aq.head()"
      ]
    },
    {
      "cell_type": "code",
      "execution_count": null,
      "metadata": {
        "colab": {
          "base_uri": "https://localhost:8080/"
        },
        "id": "y1bUrnz5PX1g",
        "outputId": "9541b5b6-5b36-4d42-b4fe-e345484f89f9"
      },
      "outputs": [
        {
          "ename": "",
          "evalue": "",
          "output_type": "error",
          "traceback": [
            "\u001b[1;31mRunning cells with 'c:\\Users\\Administrator\\AppData\\Local\\Microsoft\\WindowsApps\\python3.10.exe' requires the ipykernel package.\n",
            "\u001b[1;31mRun the following command to install 'ipykernel' into the Python environment. \n",
            "\u001b[1;31mCommand: 'c:/Users/Administrator/AppData/Local/Microsoft/WindowsApps/python3.10.exe -m pip install ipykernel -U --user --force-reinstall'"
          ]
        }
      ],
      "source": [
        "aq.dtypes"
      ]
    },
    {
      "cell_type": "markdown",
      "metadata": {
        "id": "goZJV8gCpsnJ"
      },
      "source": [
        "##Removing Null/Missing Valus"
      ]
    },
    {
      "cell_type": "markdown",
      "metadata": {
        "id": "MSuvwH-7pv4I"
      },
      "source": [
        "Missing values are labeled with '-200' so I'll handle those instances."
      ]
    },
    {
      "cell_type": "code",
      "execution_count": null,
      "metadata": {
        "colab": {
          "base_uri": "https://localhost:8080/",
          "height": 320
        },
        "id": "DDnxqVjkqKu9",
        "outputId": "957837fa-5cc1-4e4c-a905-5ef5e9cc2516"
      },
      "outputs": [
        {
          "ename": "",
          "evalue": "",
          "output_type": "error",
          "traceback": [
            "\u001b[1;31mRunning cells with 'c:\\Users\\Administrator\\AppData\\Local\\Microsoft\\WindowsApps\\python3.10.exe' requires the ipykernel package.\n",
            "\u001b[1;31mRun the following command to install 'ipykernel' into the Python environment. \n",
            "\u001b[1;31mCommand: 'c:/Users/Administrator/AppData/Local/Microsoft/WindowsApps/python3.10.exe -m pip install ipykernel -U --user --force-reinstall'"
          ]
        }
      ],
      "source": [
        "aq.replace(to_replace=-200, value=np.nan, inplace=True)\n",
        "\n",
        "aq.describe()"
      ]
    },
    {
      "cell_type": "code",
      "execution_count": null,
      "metadata": {
        "colab": {
          "base_uri": "https://localhost:8080/"
        },
        "id": "F0XeMUdiqsS-",
        "outputId": "01f342ed-0ceb-4792-9cd2-1d755f96eb76"
      },
      "outputs": [
        {
          "ename": "",
          "evalue": "",
          "output_type": "error",
          "traceback": [
            "\u001b[1;31mRunning cells with 'c:\\Users\\Administrator\\AppData\\Local\\Microsoft\\WindowsApps\\python3.10.exe' requires the ipykernel package.\n",
            "\u001b[1;31mRun the following command to install 'ipykernel' into the Python environment. \n",
            "\u001b[1;31mCommand: 'c:/Users/Administrator/AppData/Local/Microsoft/WindowsApps/python3.10.exe -m pip install ipykernel -U --user --force-reinstall'"
          ]
        }
      ],
      "source": [
        "aq.isna().sum()"
      ]
    },
    {
      "cell_type": "code",
      "execution_count": null,
      "metadata": {
        "colab": {
          "base_uri": "https://localhost:8080/"
        },
        "id": "ar-67ITDrOiM",
        "outputId": "25413a12-2107-437b-e3aa-f4e11fc29fd9"
      },
      "outputs": [
        {
          "ename": "",
          "evalue": "",
          "output_type": "error",
          "traceback": [
            "\u001b[1;31mRunning cells with 'c:\\Users\\Administrator\\AppData\\Local\\Microsoft\\WindowsApps\\python3.10.exe' requires the ipykernel package.\n",
            "\u001b[1;31mRun the following command to install 'ipykernel' into the Python environment. \n",
            "\u001b[1;31mCommand: 'c:/Users/Administrator/AppData/Local/Microsoft/WindowsApps/python3.10.exe -m pip install ipykernel -U --user --force-reinstall'"
          ]
        }
      ],
      "source": [
        "print('Percentage of missing values in each column of this dataset')\n",
        "for col in aq.columns:\n",
        "  print(f'{col}:{np.round((aq[col].isna().sum()/aq.shape[0]) * 100, 2)}%')"
      ]
    },
    {
      "cell_type": "markdown",
      "metadata": {
        "id": "VK6MkaLYvjan"
      },
      "source": [
        "We see that column 'NMHC(GT)' has around 90% of null values. This means that, if we were to drop these rows we would lose 90% of our dataset. Furthermore, we still have a column with information about Benzene (C6H6) concentrations (benzene is a hydrocarbon) through the columns C6H6(GT) and PT08.S2(NMHC), so we haven't completely lost the entirety of the hydrocarbon readings. Instead, I'll opt for dropping this feature from the dataset. For all other columns that contain na values, we'll replace them with mean values of each column, to not lose any data. For 'Date' and 'Time' columns, we will remove rows that contain null values."
      ]
    },
    {
      "cell_type": "code",
      "execution_count": null,
      "metadata": {
        "colab": {
          "base_uri": "https://localhost:8080/",
          "height": 556
        },
        "id": "wk9SY-cXwrTy",
        "outputId": "4300459f-21fd-453d-be60-80b8d5b17316"
      },
      "outputs": [
        {
          "ename": "",
          "evalue": "",
          "output_type": "error",
          "traceback": [
            "\u001b[1;31mRunning cells with 'c:\\Users\\Administrator\\AppData\\Local\\Microsoft\\WindowsApps\\python3.10.exe' requires the ipykernel package.\n",
            "\u001b[1;31mRun the following command to install 'ipykernel' into the Python environment. \n",
            "\u001b[1;31mCommand: 'c:/Users/Administrator/AppData/Local/Microsoft/WindowsApps/python3.10.exe -m pip install ipykernel -U --user --force-reinstall'"
          ]
        }
      ],
      "source": [
        "aq.drop('NMHC(GT)', axis=1, inplace=True)\n",
        "\n",
        "cols = ['CO(GT)', 'PT08.S1(CO)', 'C6H6(GT)','PT08.S2(NMHC)', 'NOx(GT)', 'PT08.S3(NOx)', 'NO2(GT)', 'PT08.S4(NO2)','PT08.S5(O3)', 'T', 'RH', 'AH']\n",
        "\n",
        "for col in cols:\n",
        "    aq[col] = aq[col].fillna(aq[col].mean())\n",
        "\n",
        "aq.dropna(inplace=True)\n",
        "\n",
        "aq.head(10)"
      ]
    },
    {
      "cell_type": "code",
      "execution_count": null,
      "metadata": {
        "colab": {
          "base_uri": "https://localhost:8080/"
        },
        "id": "OeA56UjH5dyZ",
        "outputId": "f0defe54-bc60-4296-ba1d-3fda7062bc24"
      },
      "outputs": [
        {
          "ename": "",
          "evalue": "",
          "output_type": "error",
          "traceback": [
            "\u001b[1;31mRunning cells with 'c:\\Users\\Administrator\\AppData\\Local\\Microsoft\\WindowsApps\\python3.10.exe' requires the ipykernel package.\n",
            "\u001b[1;31mRun the following command to install 'ipykernel' into the Python environment. \n",
            "\u001b[1;31mCommand: 'c:/Users/Administrator/AppData/Local/Microsoft/WindowsApps/python3.10.exe -m pip install ipykernel -U --user --force-reinstall'"
          ]
        }
      ],
      "source": [
        "aq.isna().sum()"
      ]
    },
    {
      "cell_type": "markdown",
      "metadata": {
        "id": "dc1-KJNj0_1L"
      },
      "source": [
        "##Handling outliers"
      ]
    },
    {
      "cell_type": "code",
      "execution_count": null,
      "metadata": {
        "colab": {
          "base_uri": "https://localhost:8080/",
          "height": 749
        },
        "id": "U5uIFefm9Kpd",
        "outputId": "02243062-805c-4650-ff12-0c4c0a0c52f7"
      },
      "outputs": [
        {
          "ename": "",
          "evalue": "",
          "output_type": "error",
          "traceback": [
            "\u001b[1;31mRunning cells with 'c:\\Users\\Administrator\\AppData\\Local\\Microsoft\\WindowsApps\\python3.10.exe' requires the ipykernel package.\n",
            "\u001b[1;31mRun the following command to install 'ipykernel' into the Python environment. \n",
            "\u001b[1;31mCommand: 'c:/Users/Administrator/AppData/Local/Microsoft/WindowsApps/python3.10.exe -m pip install ipykernel -U --user --force-reinstall'"
          ]
        }
      ],
      "source": [
        "num_cols = ['CO(GT)', 'PT08.S1(CO)', 'PT08.S2(NMHC)', 'C6H6(GT)',\n",
        "       'NOx(GT)', 'PT08.S3(NOx)', 'NO2(GT)', 'PT08.S4(NO2)', 'PT08.S5(O3)',\n",
        "       'T', 'RH', 'AH']\n",
        "\n",
        "plt.figure(figsize=(12, 8))\n",
        "\n",
        "for i, col in enumerate(num_cols, 1):\n",
        "    plt.subplot(3, 4, i)\n",
        "    plt.hist(aq[col], bins=20, color='skyblue', edgecolor='black')\n",
        "    plt.title(col)\n",
        "    plt.xlabel('Values')\n",
        "    plt.ylabel('Frequency')\n",
        "\n",
        "plt.tight_layout()\n",
        "plt.show()"
      ]
    },
    {
      "cell_type": "markdown",
      "metadata": {
        "id": "DwHsLjf_9_tg"
      },
      "source": [
        "From this histograms we can see that target variable C6H6(GT) is positively skewed, that means that its distribution is skewed towards higher values. Skewness can impact the performance of my regression model. I decided to handle outliers, as a way to deal with this problem (explained later)."
      ]
    },
    {
      "cell_type": "code",
      "execution_count": null,
      "metadata": {
        "colab": {
          "base_uri": "https://localhost:8080/",
          "height": 601
        },
        "id": "JQ8UaLXP1HMg",
        "outputId": "e5a6fd61-0912-42a4-bb83-dd83d050d768"
      },
      "outputs": [
        {
          "ename": "",
          "evalue": "",
          "output_type": "error",
          "traceback": [
            "\u001b[1;31mRunning cells with 'c:\\Users\\Administrator\\AppData\\Local\\Microsoft\\WindowsApps\\python3.10.exe' requires the ipykernel package.\n",
            "\u001b[1;31mRun the following command to install 'ipykernel' into the Python environment. \n",
            "\u001b[1;31mCommand: 'c:/Users/Administrator/AppData/Local/Microsoft/WindowsApps/python3.10.exe -m pip install ipykernel -U --user --force-reinstall'"
          ]
        }
      ],
      "source": [
        "plt.figure(figsize=(8, 6))\n",
        "\n",
        "# plotting box and whiskers\n",
        "custom_colors = ['#FF9999', '#66B2FF', '#99FF99', '#FFCC99']\n",
        "sns.set_palette(sns.color_palette(custom_colors))\n",
        "\n",
        "sns.boxplot(data=aq)\n",
        "plt.xticks(rotation='vertical')\n",
        "plt.title('Air Quality Data')\n",
        "plt.xlabel('Features')\n",
        "plt.ylabel('Values')\n",
        "plt.grid(True)\n",
        "plt.tight_layout()\n",
        "plt.show()"
      ]
    },
    {
      "cell_type": "markdown",
      "metadata": {
        "id": "HEOVdcWp2r4h"
      },
      "source": [
        "As we can see, there are a lot of outliers in our dataset. I've set a threshold for outliers, which is determined by their distance from Q3 based on the interquartile range (IQR)."
      ]
    },
    {
      "cell_type": "code",
      "execution_count": null,
      "metadata": {
        "colab": {
          "base_uri": "https://localhost:8080/"
        },
        "id": "cWSYUB8V4BXY",
        "outputId": "2dc92669-164e-4443-b1de-58d7905b372a"
      },
      "outputs": [
        {
          "ename": "",
          "evalue": "",
          "output_type": "error",
          "traceback": [
            "\u001b[1;31mRunning cells with 'c:\\Users\\Administrator\\AppData\\Local\\Microsoft\\WindowsApps\\python3.10.exe' requires the ipykernel package.\n",
            "\u001b[1;31mRun the following command to install 'ipykernel' into the Python environment. \n",
            "\u001b[1;31mCommand: 'c:/Users/Administrator/AppData/Local/Microsoft/WindowsApps/python3.10.exe -m pip install ipykernel -U --user --force-reinstall'"
          ]
        }
      ],
      "source": [
        "Q1 = aq[num_cols].quantile(0.25)\n",
        "Q3 = aq[num_cols].quantile(0.75)\n",
        "\n",
        "IQR = Q3 - Q1\n",
        "\n",
        "# making a mask that will filter out outliers in my dataset\n",
        "mask = (aq[num_cols] < (Q1 - 1.5 * IQR)) | (aq[num_cols] > (Q3 + 1 * IQR))\n",
        "\n",
        "mask.sum()"
      ]
    },
    {
      "cell_type": "code",
      "execution_count": null,
      "metadata": {
        "colab": {
          "base_uri": "https://localhost:8080/",
          "height": 573
        },
        "id": "aj3AcRiS83C0",
        "outputId": "0f3d7101-9aaa-47f7-bff3-0d4fa025b685"
      },
      "outputs": [
        {
          "ename": "",
          "evalue": "",
          "output_type": "error",
          "traceback": [
            "\u001b[1;31mRunning cells with 'c:\\Users\\Administrator\\AppData\\Local\\Microsoft\\WindowsApps\\python3.10.exe' requires the ipykernel package.\n",
            "\u001b[1;31mRun the following command to install 'ipykernel' into the Python environment. \n",
            "\u001b[1;31mCommand: 'c:/Users/Administrator/AppData/Local/Microsoft/WindowsApps/python3.10.exe -m pip install ipykernel -U --user --force-reinstall'"
          ]
        }
      ],
      "source": [
        "plt.figure(figsize=(10, 6))\n",
        "plt.hist(aq['C6H6(GT)'], bins=30, color='skyblue', edgecolor='black')\n",
        "plt.title('Distribution of C6H6(GT)')\n",
        "plt.xlabel('C6H6(GT)')\n",
        "plt.ylabel('Frequency')\n",
        "plt.axvline(x=(Q3['C6H6(GT)'] + 1 * IQR['C6H6(GT)']), color='red', linestyle='--', label='Upper Threshold')\n",
        "plt.axvline(x=(Q1['C6H6(GT)'] - 1.5 * IQR['C6H6(GT)']), color='orange', linestyle='--', label='Lower Threshold')\n",
        "plt.legend()\n",
        "plt.show()"
      ]
    },
    {
      "cell_type": "markdown",
      "metadata": {
        "id": "foT7iHd1JbPh"
      },
      "source": [
        "Considering that trimming or removing outliers would lead to data loss, I opted to replace outliers with maximum or minimum values falling within the non-outlier range. To set the maximum threshold, I utilized values within the IQR distance from Q3. This approach proved beneficial after tuning, demonstrating improved model performance."
      ]
    },
    {
      "cell_type": "code",
      "execution_count": null,
      "metadata": {
        "colab": {
          "base_uri": "https://localhost:8080/"
        },
        "id": "41n1TBVBJK60",
        "outputId": "8990d96c-9a0d-42c9-935b-2482113cf044"
      },
      "outputs": [
        {
          "ename": "",
          "evalue": "",
          "output_type": "error",
          "traceback": [
            "\u001b[1;31mRunning cells with 'c:\\Users\\Administrator\\AppData\\Local\\Microsoft\\WindowsApps\\python3.10.exe' requires the ipykernel package.\n",
            "\u001b[1;31mRun the following command to install 'ipykernel' into the Python environment. \n",
            "\u001b[1;31mCommand: 'c:/Users/Administrator/AppData/Local/Microsoft/WindowsApps/python3.10.exe -m pip install ipykernel -U --user --force-reinstall'"
          ]
        }
      ],
      "source": [
        "# identify outliers using the mask\n",
        "mask_min = (aq[num_cols] < (Q1 - 1.5 * IQR))\n",
        "mask_max = (aq[num_cols] > (Q3 + 1 * IQR))\n",
        "\n",
        "min_non_outliers = aq[num_cols].apply(lambda x: x[~mask_min[x.name]].min(), axis=0)\n",
        "max_non_outliers = aq[num_cols].apply(lambda x: x[~mask_max[x.name]].max(), axis=0)\n",
        "\n",
        "# Replace outliers in selected columns\n",
        "aq[num_cols] = np.where(mask_min, min_non_outliers, aq[num_cols])\n",
        "aq[num_cols] = np.where(mask_max, max_non_outliers, aq[num_cols])\n",
        "\n",
        "((aq[num_cols] < (Q1 - 1.5 * IQR)) | (aq[num_cols] > (Q3 + 1 * IQR))).sum()"
      ]
    },
    {
      "cell_type": "markdown",
      "metadata": {
        "id": "aOVicbm_-yvw"
      },
      "source": [
        "##Minor adjustments"
      ]
    },
    {
      "cell_type": "markdown",
      "metadata": {
        "id": "W5oL_as-h-nj"
      },
      "source": [
        "Adding week day column."
      ]
    },
    {
      "cell_type": "code",
      "execution_count": null,
      "metadata": {
        "colab": {
          "base_uri": "https://localhost:8080/",
          "height": 556
        },
        "id": "zz-lf6qPireC",
        "outputId": "1ffa4c69-bf08-43a2-f226-df7c4fb7e6d6"
      },
      "outputs": [
        {
          "ename": "",
          "evalue": "",
          "output_type": "error",
          "traceback": [
            "\u001b[1;31mRunning cells with 'c:\\Users\\Administrator\\AppData\\Local\\Microsoft\\WindowsApps\\python3.10.exe' requires the ipykernel package.\n",
            "\u001b[1;31mRun the following command to install 'ipykernel' into the Python environment. \n",
            "\u001b[1;31mCommand: 'c:/Users/Administrator/AppData/Local/Microsoft/WindowsApps/python3.10.exe -m pip install ipykernel -U --user --force-reinstall'"
          ]
        }
      ],
      "source": [
        "aq['Week Day'] = aq['Date'].dt.day_name()\n",
        "\n",
        "# rearranging columns\n",
        "\n",
        "cols = aq.columns.tolist()\n",
        "cols = cols[:1] + cols[-1:] + cols[1:11]\n",
        "aq_filt = aq[cols]\n",
        "aq_filt.head(10)"
      ]
    },
    {
      "cell_type": "code",
      "execution_count": null,
      "metadata": {
        "colab": {
          "base_uri": "https://localhost:8080/",
          "height": 601
        },
        "id": "yYpXhgSLibhs",
        "outputId": "c1c51412-f1c1-4d73-b93a-092badf32a6c"
      },
      "outputs": [
        {
          "ename": "",
          "evalue": "",
          "output_type": "error",
          "traceback": [
            "\u001b[1;31mRunning cells with 'c:\\Users\\Administrator\\AppData\\Local\\Microsoft\\WindowsApps\\python3.10.exe' requires the ipykernel package.\n",
            "\u001b[1;31mRun the following command to install 'ipykernel' into the Python environment. \n",
            "\u001b[1;31mCommand: 'c:/Users/Administrator/AppData/Local/Microsoft/WindowsApps/python3.10.exe -m pip install ipykernel -U --user --force-reinstall'"
          ]
        }
      ],
      "source": [
        "aq_wed = aq_filt[aq_filt['Week Day'] == 'Monday']\n",
        "\n",
        "#Plotting the mean hourly value of CO on Mondays\n",
        "\n",
        "plt.figure(figsize=(10, 6))\n",
        "\n",
        "sns.barplot(x='Time', y='PT08.S1(CO)', data=aq_wed.sort_values('Time'), palette='viridis')\n",
        "plt.title('Mean Hourly Values of CO on Mondays', fontsize=16)\n",
        "plt.xlabel('Hour of the Day', fontsize=12)\n",
        "plt.ylabel('Mean CO Value', fontsize=12)\n",
        "plt.xticks(rotation=45)\n",
        "plt.tight_layout()\n",
        "plt.show()"
      ]
    },
    {
      "cell_type": "markdown",
      "metadata": {
        "id": "HWPyDZB5kshz"
      },
      "source": [
        "We can see that CO emissions are at their peak between 7 and 9 o'clock and between 18 and 20 o'clock, beginnings and endings of office hours."
      ]
    },
    {
      "cell_type": "markdown",
      "metadata": {
        "id": "_T0czCvEmBfI"
      },
      "source": [
        "##Correlation"
      ]
    },
    {
      "cell_type": "code",
      "execution_count": null,
      "metadata": {
        "colab": {
          "base_uri": "https://localhost:8080/",
          "height": 801
        },
        "id": "NWjFNTrfl7Ks",
        "outputId": "0c6286d6-68a7-427f-b500-8a18bce3438e"
      },
      "outputs": [
        {
          "ename": "",
          "evalue": "",
          "output_type": "error",
          "traceback": [
            "\u001b[1;31mRunning cells with 'c:\\Users\\Administrator\\AppData\\Local\\Microsoft\\WindowsApps\\python3.10.exe' requires the ipykernel package.\n",
            "\u001b[1;31mRun the following command to install 'ipykernel' into the Python environment. \n",
            "\u001b[1;31mCommand: 'c:/Users/Administrator/AppData/Local/Microsoft/WindowsApps/python3.10.exe -m pip install ipykernel -U --user --force-reinstall'"
          ]
        }
      ],
      "source": [
        "plt.figure(figsize=(10, 8))\n",
        "\n",
        "sns.set_style(\"whitegrid\")\n",
        "\n",
        "heatmap = sns.heatmap(aq.corr(), annot=True, cmap='YlGnBu', fmt=\".2f\")\n",
        "plt.title('Correlation Matrix', fontsize=16)\n",
        "plt.xticks(rotation=45)\n",
        "plt.yticks(rotation=0)\n",
        "plt.tight_layout()\n",
        "\n",
        "plt.show()"
      ]
    },
    {
      "cell_type": "code",
      "execution_count": null,
      "metadata": {
        "colab": {
          "background_save": true,
          "base_uri": "https://localhost:8080/",
          "height": 1000
        },
        "id": "M0omYm_Umhh9",
        "outputId": "86e6821b-95e6-46eb-b0bd-17fb0d6ef338"
      },
      "outputs": [
        {
          "ename": "",
          "evalue": "",
          "output_type": "error",
          "traceback": [
            "\u001b[1;31mRunning cells with 'c:\\Users\\Administrator\\AppData\\Local\\Microsoft\\WindowsApps\\python3.10.exe' requires the ipykernel package.\n",
            "\u001b[1;31mRun the following command to install 'ipykernel' into the Python environment. \n",
            "\u001b[1;31mCommand: 'c:/Users/Administrator/AppData/Local/Microsoft/WindowsApps/python3.10.exe -m pip install ipykernel -U --user --force-reinstall'"
          ]
        }
      ],
      "source": [
        "plt.figure(figsize=(12, 10))\n",
        "\n",
        "\n",
        "sns.set(style=\"ticks\", palette=\"muted\")\n",
        "\n",
        "pair_plot = sns.pairplot(aq)\n",
        "plt.tight_layout()\n",
        "plt.show()"
      ]
    },
    {
      "cell_type": "markdown",
      "metadata": {
        "id": "wzr9sVw6oo94"
      },
      "source": [
        "Column such as T, RH, AH do not have strong correlation with other features. Eliminating the NMHC for being a redundant sensor (the C6H6 molecule is a Non-Methanic Hydrocarbon (NMHC)), so the correlation between those two sensors is exact (multicollinearity issue)."
      ]
    },
    {
      "cell_type": "code",
      "execution_count": null,
      "metadata": {
        "id": "ZVw25IP-onJR"
      },
      "outputs": [
        {
          "ename": "",
          "evalue": "",
          "output_type": "error",
          "traceback": [
            "\u001b[1;31mRunning cells with 'c:\\Users\\Administrator\\AppData\\Local\\Microsoft\\WindowsApps\\python3.10.exe' requires the ipykernel package.\n",
            "\u001b[1;31mRun the following command to install 'ipykernel' into the Python environment. \n",
            "\u001b[1;31mCommand: 'c:/Users/Administrator/AppData/Local/Microsoft/WindowsApps/python3.10.exe -m pip install ipykernel -U --user --force-reinstall'"
          ]
        }
      ],
      "source": [
        "aq_filt.drop('PT08.S2(NMHC)', axis=1, inplace=True)"
      ]
    },
    {
      "cell_type": "markdown",
      "metadata": {
        "id": "-fUPV135uB4I"
      },
      "source": [
        "##Regression"
      ]
    },
    {
      "cell_type": "code",
      "execution_count": null,
      "metadata": {
        "colab": {
          "base_uri": "https://localhost:8080/"
        },
        "id": "O7zi6xZ7uJsi",
        "outputId": "14a7cc8e-fcdc-4a30-ec57-4ff3a7aae5f8"
      },
      "outputs": [
        {
          "ename": "",
          "evalue": "",
          "output_type": "error",
          "traceback": [
            "\u001b[1;31mRunning cells with 'c:\\Users\\Administrator\\AppData\\Local\\Microsoft\\WindowsApps\\python3.10.exe' requires the ipykernel package.\n",
            "\u001b[1;31mRun the following command to install 'ipykernel' into the Python environment. \n",
            "\u001b[1;31mCommand: 'c:/Users/Administrator/AppData/Local/Microsoft/WindowsApps/python3.10.exe -m pip install ipykernel -U --user --force-reinstall'"
          ]
        }
      ],
      "source": [
        "X = aq_filt[['CO(GT)', 'PT08.S1(CO)', 'NOx(GT)', 'PT08.S3(NOx)', 'NO2(GT)', 'PT08.S4(NO2)','PT08.S5(O3)']]\n",
        "y = aq_filt['C6H6(GT)']\n",
        "\n",
        "# scaling\n",
        "scaler = RobustScaler()\n",
        "scaled_features = scaler.fit_transform(X)\n",
        "\n",
        "# using polynomial features\n",
        "poly = PolynomialFeatures(degree=3)\n",
        "X_poly = poly.fit_transform(scaled_features)\n",
        "\n",
        "X_train, X_test, y_train, y_test = train_test_split(X_poly,y, test_size = 0.3, random_state=1)\n",
        "# using linear regression\n",
        "model = LinearRegression()\n",
        "model.fit(X_train,y_train)\n",
        "y_pred = model.predict(X_test)\n",
        "print(\"R2_score of Linear Regression:\",r2(y_test,y_pred))\n",
        "print(\"Mean Average Error of Linear Regression:\",mae(y_test,y_pred))\n",
        "print(\"Mean Squared Error of Linear Regression:\",rmse(y_test,y_pred))"
      ]
    },
    {
      "cell_type": "markdown",
      "metadata": {
        "id": "tv3uZbYuvqPk"
      },
      "source": [
        "An R2 score of 0.91 indicates that approximately 91% of the variance in the target variable ('C6H6(GT)') is explained by the features included in my model. On average, my model's predictions have an error of approximately 1.40 units (in the same units as my target variable)."
      ]
    },
    {
      "cell_type": "code",
      "execution_count": null,
      "metadata": {
        "colab": {
          "base_uri": "https://localhost:8080/",
          "height": 573
        },
        "id": "5icZGGyygWXo",
        "outputId": "9a220c9e-76a1-4092-a2a4-0f0761a72a24"
      },
      "outputs": [
        {
          "ename": "",
          "evalue": "",
          "output_type": "error",
          "traceback": [
            "\u001b[1;31mRunning cells with 'c:\\Users\\Administrator\\AppData\\Local\\Microsoft\\WindowsApps\\python3.10.exe' requires the ipykernel package.\n",
            "\u001b[1;31mRun the following command to install 'ipykernel' into the Python environment. \n",
            "\u001b[1;31mCommand: 'c:/Users/Administrator/AppData/Local/Microsoft/WindowsApps/python3.10.exe -m pip install ipykernel -U --user --force-reinstall'"
          ]
        }
      ],
      "source": [
        "# plotting predicted and actual values to compare results\n",
        "plt.figure(figsize=(8, 6))\n",
        "plt.scatter(y_test, y_pred, alpha=0.5)\n",
        "plt.title('Predicted vs. Actual Values')\n",
        "plt.xlabel('Actual Values')\n",
        "plt.ylabel('Predicted Values')\n",
        "plt.show()"
      ]
    },
    {
      "cell_type": "code",
      "execution_count": null,
      "metadata": {
        "colab": {
          "base_uri": "https://localhost:8080/",
          "height": 480
        },
        "id": "Y69aGpSDwxAQ",
        "outputId": "1c31b608-9db7-4c1f-ed75-321f86b76dfe"
      },
      "outputs": [
        {
          "ename": "",
          "evalue": "",
          "output_type": "error",
          "traceback": [
            "\u001b[1;31mRunning cells with 'c:\\Users\\Administrator\\AppData\\Local\\Microsoft\\WindowsApps\\python3.10.exe' requires the ipykernel package.\n",
            "\u001b[1;31mRun the following command to install 'ipykernel' into the Python environment. \n",
            "\u001b[1;31mCommand: 'c:/Users/Administrator/AppData/Local/Microsoft/WindowsApps/python3.10.exe -m pip install ipykernel -U --user --force-reinstall'"
          ]
        }
      ],
      "source": [
        "y_pred = model.predict(X_test)\n",
        "residuals = y_test - y_pred\n",
        "\n",
        "sns.scatterplot(x=y_pred, y=residuals)\n",
        "plt.title('Residual Plot')\n",
        "plt.xlabel('Predicted values')\n",
        "plt.ylabel('Residuals')\n",
        "plt.axhline(y=0, color='r', linestyle='-')\n",
        "plt.show()"
      ]
    },
    {
      "cell_type": "markdown",
      "metadata": {
        "id": "es3yvkVF3_cA"
      },
      "source": [
        "##Hyperparameter Tuning for Polynomial Regression degree"
      ]
    },
    {
      "cell_type": "code",
      "execution_count": null,
      "metadata": {
        "colab": {
          "background_save": true,
          "base_uri": "https://localhost:8080/"
        },
        "id": "hczVvqJ91yP3",
        "outputId": "9a48d612-9d26-4286-a468-335caff766f6"
      },
      "outputs": [
        {
          "ename": "",
          "evalue": "",
          "output_type": "error",
          "traceback": [
            "\u001b[1;31mRunning cells with 'c:\\Users\\Administrator\\AppData\\Local\\Microsoft\\WindowsApps\\python3.10.exe' requires the ipykernel package.\n",
            "\u001b[1;31mRun the following command to install 'ipykernel' into the Python environment. \n",
            "\u001b[1;31mCommand: 'c:/Users/Administrator/AppData/Local/Microsoft/WindowsApps/python3.10.exe -m pip install ipykernel -U --user --force-reinstall'"
          ]
        }
      ],
      "source": [
        "param_grid = {'polynomialfeatures__degree': [2, 3, 4]}\n",
        "\n",
        "# created a pipeline with PolynomialFeatures and LinearRegression\n",
        "pipeline = make_pipeline(PolynomialFeatures(), LinearRegression())\n",
        "\n",
        "grid_search = GridSearchCV(pipeline, param_grid, cv=5)\n",
        "grid_search.fit(X, y)\n",
        "print(\"Best degree parameter:\", grid_search.best_params_)\n",
        "\n",
        "# re-run my model with best parameters\n",
        "best_degree = grid_search.best_params_['polynomialfeatures__degree']\n",
        "best_pipeline = make_pipeline(PolynomialFeatures(degree=best_degree), LinearRegression())\n",
        "best_pipeline.fit(X, y)\n",
        "\n",
        "# model's performance\n",
        "y_pred = best_pipeline.predict(X)\n",
        "print(\"R2 score of Polynomial Regression:\", r2(y, y_pred))\n",
        "print(\"Mean Absolute Error of Polynomial Regression:\", mae(y, y_pred))\n",
        "print(\"Root Mean Squared Error of Polynomial Regression:\", rmse(y, y_pred))"
      ]
    },
    {
      "cell_type": "code",
      "execution_count": null,
      "metadata": {
        "colab": {
          "background_save": true,
          "base_uri": "https://localhost:8080/",
          "height": 573
        },
        "id": "zfa2LaI62JFH",
        "outputId": "1951d750-4c8d-461a-f161-ecd863c67593"
      },
      "outputs": [
        {
          "ename": "",
          "evalue": "",
          "output_type": "error",
          "traceback": [
            "\u001b[1;31mRunning cells with 'c:\\Users\\Administrator\\AppData\\Local\\Microsoft\\WindowsApps\\python3.10.exe' requires the ipykernel package.\n",
            "\u001b[1;31mRun the following command to install 'ipykernel' into the Python environment. \n",
            "\u001b[1;31mCommand: 'c:/Users/Administrator/AppData/Local/Microsoft/WindowsApps/python3.10.exe -m pip install ipykernel -U --user --force-reinstall'"
          ]
        }
      ],
      "source": [
        "# plotting predicted and actual values to compare results\n",
        "plt.figure(figsize=(8, 6))\n",
        "plt.scatter(y, y_pred, alpha=0.5)\n",
        "plt.title('Predicted vs. Actual Values')\n",
        "plt.xlabel('Actual Values')\n",
        "plt.ylabel('Predicted Values')\n",
        "plt.show()"
      ]
    },
    {
      "cell_type": "code",
      "execution_count": null,
      "metadata": {
        "colab": {
          "background_save": true,
          "base_uri": "https://localhost:8080/",
          "height": 573
        },
        "id": "m62afPcw1yVL",
        "outputId": "7cb2866c-17c5-46ff-c4de-f33faf497712"
      },
      "outputs": [
        {
          "ename": "",
          "evalue": "",
          "output_type": "error",
          "traceback": [
            "\u001b[1;31mRunning cells with 'c:\\Users\\Administrator\\AppData\\Local\\Microsoft\\WindowsApps\\python3.10.exe' requires the ipykernel package.\n",
            "\u001b[1;31mRun the following command to install 'ipykernel' into the Python environment. \n",
            "\u001b[1;31mCommand: 'c:/Users/Administrator/AppData/Local/Microsoft/WindowsApps/python3.10.exe -m pip install ipykernel -U --user --force-reinstall'"
          ]
        }
      ],
      "source": [
        "y_pred = best_pipeline.predict(X)\n",
        "\n",
        "# calculating residuals\n",
        "residuals = y - y_pred\n",
        "\n",
        "plt.figure(figsize=(8, 6))\n",
        "plt.scatter(y_pred, residuals, alpha=0.5)\n",
        "plt.axhline(y=0, color='red', linestyle='--')\n",
        "plt.title('Residual Plot for Polynomial Regression')\n",
        "plt.xlabel('Predicted Values')\n",
        "plt.ylabel('Residuals')\n",
        "plt.show()"
      ]
    },
    {
      "cell_type": "markdown",
      "metadata": {
        "id": "MEGXts5g6Cqp"
      },
      "source": [
        "##Conclusion"
      ]
    },
    {
      "cell_type": "markdown",
      "metadata": {
        "id": "mvenFFmn6FUQ"
      },
      "source": [
        "The slight difference between the two models indicates that the data might not benefit significantly from polynomial transformations. The small improvement suggests that the default hyperparameters used in the initial model were already close to optimal. It's also possible that other hyperparameters beyond the degree of the polynomial could be fine-tuned for a better performance boost."
      ]
    }
  ],
  "metadata": {
    "colab": {
      "provenance": [],
      "toc_visible": true
    },
    "kernelspec": {
      "display_name": "Python 3",
      "name": "python3"
    },
    "language_info": {
      "name": "python",
      "version": "3.10.11"
    }
  },
  "nbformat": 4,
  "nbformat_minor": 0
}
